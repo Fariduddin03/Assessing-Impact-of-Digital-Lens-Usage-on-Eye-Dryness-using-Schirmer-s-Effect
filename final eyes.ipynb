{
 "cells": [
  {
   "cell_type": "code",
   "execution_count": 3,
   "id": "4a22298c",
   "metadata": {},
   "outputs": [],
   "source": [
    "import pandas as pd\n",
    "import seaborn as sns\n",
    "import matplotlib.pyplot as plt\n",
    "import pandas as pd\n",
    "from sklearn.model_selection import train_test_split\n",
    "from sklearn.tree import DecisionTreeClassifier\n",
    "from sklearn.metrics import accuracy_score, classification_report, confusion_matrix\n",
    "from sklearn.preprocessing import LabelEncoder\n",
    "from sklearn import tree\n",
    "from sklearn.decomposition import PCA\n",
    "import pickle"
   ]
  },
  {
   "cell_type": "code",
   "execution_count": 6,
   "id": "f60e15dd",
   "metadata": {},
   "outputs": [],
   "source": [
    "df = pd.read_excel('C:\\\\Users\\\\LENOVO L460\\\\Downloads\\\\ipbl\\\\datasets\\\\dgclean.xlsx')\n"
   ]
  },
  {
   "cell_type": "code",
   "execution_count": 7,
   "id": "d51848ee",
   "metadata": {},
   "outputs": [],
   "source": [
    "X_train_1 = df.drop(['Schimers1Lefteye_1', 'Schimers1righteye_1', 'Schimers2Lefteye_1', 'Schimers2righteye_1'], axis=1)\n",
    "y_train_1 = df[['Schimers1Lefteye_1', 'Schimers1righteye_1', 'Schimers2Lefteye_1', 'Schimers2righteye_1']]"
   ]
  },
  {
   "cell_type": "code",
   "execution_count": 9,
   "id": "63467ed7",
   "metadata": {},
   "outputs": [],
   "source": [
    "X = df.drop(['Schimers1Lefteye_1', 'Schimers1righteye_1', 'Schimers2Lefteye_1', 'Schimers2righteye_1','onlineplatforms',\n",
    "            'onlineplatforms', 'Sex', 'Distancekeptbetweeneyesandgadjet', 'levelofgadjetwithrespecttoeyes', 'Duration', \n",
    "             'Difficultyinfocusingafterusingscreens', 'frequencyofdryeyes','screenillumination'\n",
    "], axis=1)\n",
    "# X = df[['Severityofcomplaints','freqquencyofcomplaints','Age','Ocularsymptomsobservedlately','hoursspentdailynoncurricular','Complaintsfrequency']]\n",
    "y1 = df['Schimers1Lefteye_1'] \n",
    "y2 = df['Schimers1righteye_1'] \n",
    "y3 = df['Schimers2Lefteye_1'] \n",
    "y4 = df['Schimers2righteye_1'] \n",
    "# Encode categorical variables if needed\n",
    "# For example, if any other columns contain non-numeric data\n",
    "# encoder = LabelEncoder()\n",
    "# data['SomeColumn'] = encoder.fit_transform(data['SomeColumn'])\n",
    "\n",
    "\n",
    "\n",
    "# Train-test split\n",
    "X_train1, X_test1, y_train1, y_test1 = train_test_split(X, y1, test_size=0.2, random_state=42)\n",
    "X_train2, X_test2, y_train2, y_test2= train_test_split(X, y2, test_size=0.2, random_state=42)\n",
    "X_train3, X_test3, y_train3, y_test3 = train_test_split(X, y3, test_size=0.2, random_state=42)\n",
    "X_train4, X_test4, y_train4, y_test4 = train_test_split(X, y4, test_size=0.2, random_state=42)\n",
    "\n",
    "\n",
    "# Initialize decision tree classifier\n",
    "clf1 = DecisionTreeClassifier(random_state=42)\n",
    "clf2 = DecisionTreeClassifier(random_state=42)\n",
    "clf3 = DecisionTreeClassifier(random_state=42)\n",
    "clf4 = DecisionTreeClassifier(random_state=42)\n",
    "\n",
    "# Train the classifier\n",
    "clf1.fit(X_train1, y_train1)\n",
    "clf2.fit(X_train2, y_train2)\n",
    "clf3.fit(X_train3, y_train3)\n",
    "clf4.fit(X_train4, y_train4)\n",
    "\n",
    "# Make predictions\n",
    "y_pred1 = clf1.predict(X_test1)\n",
    "y_pred2 = clf2.predict(X_test2)\n",
    "y_pred3 = clf3.predict(X_test3)\n",
    "y_pred4 = clf4.predict(X_test4)\n",
    "\n",
    "# Evaluate the model\n",
    "accuracy1 = accuracy_score(y_test1, y_pred1)\n",
    "accuracy2 = accuracy_score(y_test2, y_pred2)\n",
    "accuracy3 = accuracy_score(y_test3, y_pred3)\n",
    "accuracy4 = accuracy_score(y_test4, y_pred4)\n",
    "\n",
    "classifiers = {\n",
    "    'clf1': clf1,\n",
    "    'clf2': clf2,\n",
    "    'clf3': clf3,\n",
    "    'clf4': clf4\n",
    "}\n",
    "\n",
    "# Save all classifiers into a single pickle file\n",
    "filename = 'Eyemodel.pkl'\n",
    "with open(filename, 'wb') as f:\n",
    "    pickle.dump(classifiers, f)"
   ]
  },
  {
   "cell_type": "code",
   "execution_count": null,
   "id": "45595c46",
   "metadata": {},
   "outputs": [],
   "source": []
  }
 ],
 "metadata": {
  "kernelspec": {
   "display_name": "Python 3 (ipykernel)",
   "language": "python",
   "name": "python3"
  },
  "language_info": {
   "codemirror_mode": {
    "name": "ipython",
    "version": 3
   },
   "file_extension": ".py",
   "mimetype": "text/x-python",
   "name": "python",
   "nbconvert_exporter": "python",
   "pygments_lexer": "ipython3",
   "version": "3.11.5"
  }
 },
 "nbformat": 4,
 "nbformat_minor": 5
}
